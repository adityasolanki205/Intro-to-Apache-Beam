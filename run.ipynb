{
 "cells": [
  {
   "cell_type": "code",
   "execution_count": null,
   "metadata": {},
   "outputs": [],
   "source": [
    "import apache_beam as beam\n",
    "from apache_beam.options.pipeline_options as PipelineOptions\n",
    "class Split(beam.DoFn):\n",
    "    def process(self, element):\n",
    "        Date,Open,High,Low,Close,Volume = element.split(',')\n",
    "        return [{\n",
    "            'Date':Date,\n",
    "            'Open': float(Open),\n",
    "            'Close': float(Close)\n",
    "        }]\n",
    "input_filename = \"./data/sp500.csv\"\n",
    "output_filename = \"./output/run_result.txt\"\n",
    "with beam.pipeline(options=PipelineOptions) as p:\n",
    "    csv_lines = (p | beam.io.ReadFromText(input_file, skip_header_lines = 1))\n",
    "    splitting = (csv_lines | beam.ParDo(Split()))\n",
    "    output = (splitting | beam.io.WriteToText(output_file))"
   ]
  }
 ],
 "metadata": {
  "kernelspec": {
   "display_name": "Python 3",
   "language": "python",
   "name": "python3"
  },
  "language_info": {
   "codemirror_mode": {
    "name": "ipython",
    "version": 3
   },
   "file_extension": ".py",
   "mimetype": "text/x-python",
   "name": "python",
   "nbconvert_exporter": "python",
   "pygments_lexer": "ipython3",
   "version": "3.7.4"
  }
 },
 "nbformat": 4,
 "nbformat_minor": 4
}
