{
 "cells": [
  {
   "cell_type": "code",
   "execution_count": null,
   "metadata": {},
   "outputs": [],
   "source": [
    "import apache_beam as beam\n",
    "from apache_beam.options.pipeline_options import PipelineOptions\n",
    "class Split(beam.DoFn):\n",
    "    def process(self, element):\n",
    "        Date,Open,High,Low,Close,Volume = element.split(',')\n",
    "        return [{\n",
    "            'Date': Date,\n",
    "            'Open': float(Open),\n",
    "            'Close': float(Close)\n",
    "        }]\n",
    "    \n",
    "class CollectOpen(beam.DoFn):\n",
    "    def process(self, element):\n",
    "        result = [(1, element['Open'])]\n",
    "        return result\n",
    "    \n",
    "class CollectClose(beam.DoFn):\n",
    "    def process(self, element):\n",
    "        result = [(1, element['Close'])]\n",
    "        return result\n",
    "    \n",
    "class MyOptions(PipelineOptions):\n",
    "    @classmethod\n",
    "    def _add_argparse_args(cls, parser):\n",
    "        parser.add_argument('--input',\n",
    "                             help='Input for the pipeline',\n",
    "                             default='./data/'\n",
    "                           )\n",
    "        parser.add_argument('--output',\n",
    "                            help='Output for the pipeline',\n",
    "                            default='./output/'\n",
    "                            )\n",
    "input_filename = \"./data/sp500.csv\"\n",
    "output_filename = \"./output/result.txt\"\n",
    "options = PipelineOptions()\n",
    "with beam.Pipeline(options=options) as p:\n",
    "    csv_lines = (p | beam.io.ReadFromText(input_filename, skip_header_lines = 1) | beam.ParDo(Split())\n",
    "              )\n",
    "    mean_open = ( csv_lines | beam.ParDo(CollectOpen ())    | \n",
    "                 \"Grouping Keys Open\" >> beam.GroupByKey() | \n",
    "                 \"Calculating mean for open\" >> beam.CombineValues(beam.combiners.MeanCombineFn())\n",
    "                )\n",
    "    mean_close = ( csv_lines | beam.ParDo(CollectClose())  |\n",
    "                \"Grouping keys Close\" >> beam.GroupByKey() |\n",
    "                \"Calculating mean for Close\" >> beam.CombineValues(beam.combiners.MeanCombineFn())\n",
    "                )\n",
    "    output = ( {'Mean Open' : mean_open,\n",
    "                'Mean Close' : mean_close\n",
    "               } \n",
    "              | beam.CoGroupByKey()\n",
    "              | beam.io.WriteToText(output_filename)\n",
    "            ) \n",
    "                "
   ]
  },
  {
   "cell_type": "code",
   "execution_count": null,
   "metadata": {},
   "outputs": [],
   "source": []
  }
 ],
 "metadata": {
  "kernelspec": {
   "display_name": "Python 3",
   "language": "python",
   "name": "python3"
  },
  "language_info": {
   "codemirror_mode": {
    "name": "ipython",
    "version": 3
   },
   "file_extension": ".py",
   "mimetype": "text/x-python",
   "name": "python",
   "nbconvert_exporter": "python",
   "pygments_lexer": "ipython3",
   "version": "3.7.4"
  }
 },
 "nbformat": 4,
 "nbformat_minor": 4
}
